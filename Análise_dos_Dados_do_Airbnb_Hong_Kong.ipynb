{
  "nbformat": 4,
  "nbformat_minor": 0,
  "metadata": {
    "colab": {
      "name": "Análise dos Dados do Airbnb - Hong Kong.ipynb",
      "provenance": [],
      "collapsed_sections": [],
      "authorship_tag": "ABX9TyPcTR65TF6YpNIXROpccpUt",
      "include_colab_link": true
    },
    "kernelspec": {
      "name": "python3",
      "display_name": "Python 3"
    },
    "language_info": {
      "name": "python"
    }
  },
  "cells": [
    {
      "cell_type": "markdown",
      "metadata": {
        "id": "view-in-github",
        "colab_type": "text"
      },
      "source": [
        "<a href=\"https://colab.research.google.com/github/bruna-lins/Data-Science-Projects/blob/main/An%C3%A1lise_dos_Dados_do_Airbnb_Hong_Kong.ipynb\" target=\"_parent\"><img src=\"https://colab.research.google.com/assets/colab-badge.svg\" alt=\"Open In Colab\"/></a>"
      ]
    },
    {
      "cell_type": "markdown",
      "metadata": {
        "id": "SUchgw4P4oDI"
      },
      "source": [
        "# **Análise dos Dados do Airbnb: *Hong Kong***\n",
        "\n",
        "\n",
        "<center><img alt=\"Analisando Airbnb\" width=\"15%\" src=\"https://www.area360.com.au/wp-content/uploads/2017/09/airbnb-logo.jpg\"></center>\n",
        "\n",
        "<center><img alt=\"Analisando Airbnb\" width=\"100%\" src=\"https://www.cosmoconsult.com/fileadmin/user_upload/Deutschland/Standorte/cosmoconsult-hong-kong.jpg\"></center>\n",
        "\n",
        "**Hong Kong** é uma das regiões administrativas da República Popular da China (RPC). Por ser o principal polo econômico do país, que possui a **2º maior economia do mundo**, Hong Kong atrai milhares de visitantes todos os anos, tendo sido [o lugar mais visitado do mundo por 6 anos consecutivo](https://g1.globo.com/turismo-e-viagem/noticia/2019/12/03/hong-kong-foi-a-cidade-mais-visitada-do-mundo-em-2019-rio-deixa-de-ser-uma-das-100-primeiras.ghtml).\n",
        "\n",
        "Para entender porque Hong Kong é tão visitado, precisamos considerar alguns pontos atrativos sobre a cidade-estado:\n",
        "\n",
        "Embora Hong Kong faça parte da China, seu idioma predominante não é o mandarim, e sim o **cantonês** e o **inglês**, que é bem difundido, tornando mais fácil a comunicação para a visitação. Assim, o contato com a cultura se torna mais simplificado para aqueles que não desejam aprender um novo idioma para mergulhar em outro país. \n",
        "\n",
        "A **música** chinesa vem em uma crescente popularidade junto à onda musical da Coreia do Sul, além disso, Hong Kong é considerada a **\"capital da popular culinária asiática\"**, possui um grande **impacto artístico** e diversos **pontos turísticos** incríveis, como por exemplo: *O Grande Buddah*, *Hong Kong Disneyland*, o *Templo de Man Mo, Victoria Peak, Ilha Lamma*, o museu de estátuas de cera *Madame Tussauds Hong Kong*, o *Stanley Market*, entre muitos outros que você pode conferir [aqui]((https://g1.globo.com/turismo-e-viagem/noticia/2019/12/03/hong-kong-foi-a-cidade-mais-visitada-do-mundo-em-2019-rio-deixa-de-ser-uma-das-100-primeiras.ghtml). \n",
        "\n",
        "Existe também o fato de Hong Kong ser um **polo financeiro** e **sediar diversas empresas multinacionais**, como a *Disney*,* IBM*, *Estée Lauder* e *JP Morgan Chase*, ou ainda que Hong Kong possui o [4º melhor salário mínimo do mundo](https://financeone.com.br/maiores-salarios-minimos-2020/) (o mais alto de toda a Ásia!) e está bem ranqueada [(24º) no Expat Ranking Survey](https://www.expatexplorer.hsbc.com/survey/) do HSBC, que busca medir a opinião de expatriados sobre o país que vivem atualmente, além de ser o [28º país no ranking de imigração da ONU](https://www.ecodebate.com.br/2020/02/14/paises-com-maior-emigracao-e-maior-imigracao-entre-2015-e-2020-artigo-de-jose-eustaquio-diniz-alves/), estando a frente de países como EUA e Reino Unido.\n",
        "\n",
        "\n",
        "Percebemos que o motivo pelo qual Hong Kong é tão visitado podem ser vários: **Turismo, viagem a negócios, imigrantes em busca de novas oportunidades de vida.**\n",
        "\n",
        "Sendo assim, não podemos negar que Hong Kong atrai muitos interesses e olhares, certo? Seja por um período temporário ou definitivo, o primeiro passo quando se vai a outro país é **encontrar um lugar para se hospedar**. Então vamos conhecer um pouco do serviço do **Airbnb**, uma das formas mais populares de aluguel de imóveis do mundo, antes de responder perguntas que podem ajudar na hora de escolher onde se hospedar em Hong Kong.\n",
        "\n",
        "\n",
        "**Neste *notebook*, iremos analisar os dados referentes à cidade de Hong Kong, a fim de extrair alguns insights a partir de dados brutos. Para ilustrar estes insights, serão explicados alguns processos e a partir disso, responderemos algumas perguntas.**\n",
        "\n",
        "## **Afinal, o que é o Airbnb?**\n",
        "\n",
        "<center><img alt=\"Analisando Airbnb\" width=\"50%\" src=\"https://www.area360.com.au/wp-content/uploads/2017/09/airbnb-logo.jpg\"></center>\n",
        "\n",
        "O **[Airbnb](https://www.airbnb.com.br/)** é uma empresa que foca nas diversas necessidades do seu público, sendo um mercado comunitário que **permite que as pessoas anunciem e descubram acomodações no mundo inteiro**. Uma vez que é tudo sobre conectar pessoas com interesses compatíveis, é possível encontrar o tipo de acomodação mais confortável para o tipo de estadia que o hospede precisa, variando desde imóveis completos à quartos compartilhados.\n",
        "\n",
        "Sendo tão popular, a Startup já **é considerada a maior empresa de hotelaria da atualidade**, tendo conectado mais de **300 milhões de hospedes e anfitriões ao redor do mundo**, mesmo **sem possuir nenhum hotel**. Sua maneira inovadora de conectar as pessoas explica o motivo pelo qual o Airbnb ultrapassou em poucos anos as redes de hotelaria mais tradicionais.\n",
        "\n",
        "Uma das interessantes iniciativas do **Airbnb**, é disponibilizar dados do site sobre as principais cidades do mundo. É possível ter acesso a essa grande quantidade de dados através do portal [Inside Airbnb](http://insideairbnb.com/get-the-data.html), possibilitando o desenvolvimento de projetos e soluções de Data Science.\n",
        "\n",
        "\n",
        "Ficou interessado? Então vamos dar uma olhada nos dados do Airbnb e buscar responder as seguintes perguntas que podem ajudar na hora de encontrar uma hospedagem em Hong Kong:\n",
        "1.\tQual o tipo de imóvel mais alugado?\n",
        "2.\tQual a localidade mais cara?\n",
        "4.\tQual a média de preço dos alugueis?\n",
        "5.\tQual o tipo de imóvel mais caro?\n",
        "\n",
        "*Obs.: Essas perguntas serão respondidas com base nos dados do dataset de fevereiro de 2021, durante a pandemia do Corona Vírus, e podem variar em determinadas épocas do ano.*\n",
        "\n",
        "**informações referentes a 29/03/2021*\n",
        "\n",
        "\n",
        "\n",
        "<center><img alt=\"Analisando Airbnb\" width=\"15%\" src=\"https://www.area360.com.au/wp-content/uploads/2017/09/airbnb-logo.jpg\"></center>\n",
        "\n",
        "**Neste *notebook*, iremos analisar os dados referentes à cidade de Hong Kong, a fim de extrair alguns insights a partir de dados brutos. Para ilustrar estes insights, serão explicados alguns processos e a partir disso, responderemos algumas perguntas.**"
      ]
    },
    {
      "cell_type": "markdown",
      "metadata": {
        "id": "YYBpwD2o4z5m"
      },
      "source": [
        "## 1. Obtenção dos Dados\n",
        "\n",
        "Todos os dados utilizados foram obtidos a partir do site [Inside Airbnb](http://insideairbnb.com/get-the-data.html).\n",
        "\n",
        "Para esta análise exploratória, serão importados os seguintes arquivos:\n",
        "\n",
        "* `listings.csv` -  *Sumário de informações e métricas para listagens de Hong Kong (bom para visualizações)*;\n",
        "* `pandas` - *biblioteca para manipulação de dados*;\n",
        "* `matplotlib` e `seaborn` - *bibliotecas para visualização de dados*."
      ]
    },
    {
      "cell_type": "code",
      "metadata": {
        "id": "cvLH6MAS4yGG"
      },
      "source": [
        "# importando os pacotes necessarios\n",
        "import pandas as pd\n",
        "import matplotlib.pyplot as plt\n",
        "import seaborn as sns\n",
        "\n",
        "%matplotlib inline"
      ],
      "execution_count": null,
      "outputs": []
    },
    {
      "cell_type": "code",
      "metadata": {
        "id": "G8dL-4x95Fqw"
      },
      "source": [
        "# importando o arquivo listings.csv para um DataFrame\n",
        "df = pd.read_csv(\"http://data.insideairbnb.com/china/hk/hong-kong/2021-02-20/visualisations/listings.csv\")"
      ],
      "execution_count": null,
      "outputs": []
    },
    {
      "cell_type": "markdown",
      "metadata": {
        "id": "SOl5Bump5Q0h"
      },
      "source": [
        "## 2. Exploração dos Dados\n",
        "\n",
        "Esta etapa consiste em entender a situação inicial e como os dados estão estruturados."
      ]
    },
    {
      "cell_type": "markdown",
      "metadata": {
        "id": "23sx_Alp5TeZ"
      },
      "source": [
        "**Dicionário das variáveis**\n",
        "\n",
        "* `id` - número de identificação gerado para o imóvel;\n",
        "* `name` - nome atribuido a propriedade anunciada; \n",
        "* `host_id` - número de identificação do anfitrião (proprietário);\n",
        "* `host_name` - nome do anfitrião;\n",
        "* `neighbourhood_group`- esta coluna não contém nenhum valor válido;\n",
        "* `neighbourhood` - nome do bairro;\n",
        "* `latitude` - coordenada da latitude da propriedade;\n",
        "* `longitude` - coordenada da longitude da propriedade;\n",
        "* `romm_type` - informa o tipo de quarto que é oferecido;\n",
        "* `price` - preço do aluguel do imóvel;\n",
        "* `minimum_nights` - quantidade mínima de noites para reservar;\n",
        "* `number_of_reviews` - número de avaliações que a propriedade possui;\n",
        "* `last_review` - data da última avaliação;\n",
        "* `reviews_per_month` - quantidade de avaliações por mês;\n",
        "* `calculated_host_listings_count` - quantidade de imóveis do mesmo anfitrião;\n",
        "* `availability_365` - número de dias de disponibilidade dentro de 365 dias.\n",
        "\n",
        "Antes de iniciar a análise, vamos verificar como está nosso *dataset*, analisando as 5 primeiras entradas."
      ]
    },
    {
      "cell_type": "code",
      "metadata": {
        "colab": {
          "base_uri": "https://localhost:8080/",
          "height": 501
        },
        "id": "9VhjOQBj5Ly1",
        "outputId": "a7875cf1-281a-4079-ca5d-de399b6cb693"
      },
      "source": [
        "# mostrando as 5 primeiras entradas\n",
        "df.head()"
      ],
      "execution_count": null,
      "outputs": [
        {
          "output_type": "execute_result",
          "data": {
            "text/html": [
              "<div>\n",
              "<style scoped>\n",
              "    .dataframe tbody tr th:only-of-type {\n",
              "        vertical-align: middle;\n",
              "    }\n",
              "\n",
              "    .dataframe tbody tr th {\n",
              "        vertical-align: top;\n",
              "    }\n",
              "\n",
              "    .dataframe thead th {\n",
              "        text-align: right;\n",
              "    }\n",
              "</style>\n",
              "<table border=\"1\" class=\"dataframe\">\n",
              "  <thead>\n",
              "    <tr style=\"text-align: right;\">\n",
              "      <th></th>\n",
              "      <th>id</th>\n",
              "      <th>name</th>\n",
              "      <th>host_id</th>\n",
              "      <th>host_name</th>\n",
              "      <th>neighbourhood_group</th>\n",
              "      <th>neighbourhood</th>\n",
              "      <th>latitude</th>\n",
              "      <th>longitude</th>\n",
              "      <th>room_type</th>\n",
              "      <th>price</th>\n",
              "      <th>minimum_nights</th>\n",
              "      <th>number_of_reviews</th>\n",
              "      <th>last_review</th>\n",
              "      <th>reviews_per_month</th>\n",
              "      <th>calculated_host_listings_count</th>\n",
              "      <th>availability_365</th>\n",
              "    </tr>\n",
              "  </thead>\n",
              "  <tbody>\n",
              "    <tr>\n",
              "      <th>0</th>\n",
              "      <td>69074</td>\n",
              "      <td>Beautiful oasis of plants &amp; art @ best location</td>\n",
              "      <td>160139</td>\n",
              "      <td>Amy</td>\n",
              "      <td>NaN</td>\n",
              "      <td>Central &amp; Western</td>\n",
              "      <td>22.28352</td>\n",
              "      <td>114.15018</td>\n",
              "      <td>Entire home/apt</td>\n",
              "      <td>1135</td>\n",
              "      <td>3</td>\n",
              "      <td>134</td>\n",
              "      <td>2020-03-24</td>\n",
              "      <td>1.10</td>\n",
              "      <td>1</td>\n",
              "      <td>174</td>\n",
              "    </tr>\n",
              "    <tr>\n",
              "      <th>1</th>\n",
              "      <td>75083</td>\n",
              "      <td>SoHo off Hollywood Road  3B</td>\n",
              "      <td>304876</td>\n",
              "      <td>Brend</td>\n",
              "      <td>NaN</td>\n",
              "      <td>Central &amp; Western</td>\n",
              "      <td>22.28398</td>\n",
              "      <td>114.14839</td>\n",
              "      <td>Entire home/apt</td>\n",
              "      <td>403</td>\n",
              "      <td>14</td>\n",
              "      <td>229</td>\n",
              "      <td>2020-04-18</td>\n",
              "      <td>1.89</td>\n",
              "      <td>14</td>\n",
              "      <td>0</td>\n",
              "    </tr>\n",
              "    <tr>\n",
              "      <th>2</th>\n",
              "      <td>103760</td>\n",
              "      <td>Central Centre 5 min walk to/from Central MTR</td>\n",
              "      <td>304876</td>\n",
              "      <td>Brend</td>\n",
              "      <td>NaN</td>\n",
              "      <td>Central &amp; Western</td>\n",
              "      <td>22.28407</td>\n",
              "      <td>114.15570</td>\n",
              "      <td>Entire home/apt</td>\n",
              "      <td>613</td>\n",
              "      <td>2</td>\n",
              "      <td>272</td>\n",
              "      <td>2020-07-07</td>\n",
              "      <td>2.31</td>\n",
              "      <td>14</td>\n",
              "      <td>365</td>\n",
              "    </tr>\n",
              "    <tr>\n",
              "      <th>3</th>\n",
              "      <td>104626</td>\n",
              "      <td>Entire Flat - Next to Man Mo Temple</td>\n",
              "      <td>544166</td>\n",
              "      <td>Celine</td>\n",
              "      <td>NaN</td>\n",
              "      <td>Central &amp; Western</td>\n",
              "      <td>22.28222</td>\n",
              "      <td>114.14834</td>\n",
              "      <td>Entire home/apt</td>\n",
              "      <td>2631</td>\n",
              "      <td>1</td>\n",
              "      <td>14</td>\n",
              "      <td>2012-02-06</td>\n",
              "      <td>0.12</td>\n",
              "      <td>1</td>\n",
              "      <td>365</td>\n",
              "    </tr>\n",
              "    <tr>\n",
              "      <th>4</th>\n",
              "      <td>132773</td>\n",
              "      <td>Fabulous 2 Bdrm Aprt Open kitchen</td>\n",
              "      <td>304876</td>\n",
              "      <td>Brend</td>\n",
              "      <td>NaN</td>\n",
              "      <td>Central &amp; Western</td>\n",
              "      <td>22.28868</td>\n",
              "      <td>114.14494</td>\n",
              "      <td>Entire home/apt</td>\n",
              "      <td>845</td>\n",
              "      <td>2</td>\n",
              "      <td>207</td>\n",
              "      <td>2020-10-10</td>\n",
              "      <td>1.77</td>\n",
              "      <td>14</td>\n",
              "      <td>365</td>\n",
              "    </tr>\n",
              "  </tbody>\n",
              "</table>\n",
              "</div>"
            ],
            "text/plain": [
              "       id  ... availability_365\n",
              "0   69074  ...              174\n",
              "1   75083  ...                0\n",
              "2  103760  ...              365\n",
              "3  104626  ...              365\n",
              "4  132773  ...              365\n",
              "\n",
              "[5 rows x 16 columns]"
            ]
          },
          "metadata": {
            "tags": []
          },
          "execution_count": 3
        }
      ]
    },
    {
      "cell_type": "markdown",
      "metadata": {
        "id": "axEG3qbX5dAW"
      },
      "source": [
        "### **Quantos atributos (variáveis) e quantas entradas o nosso conjunto de dados possui? Quais os tipos das variáveis?**\n",
        "\n",
        "Agora iremos identificar a quantidade de entradas que nosso conjunto de dados possui e ver os tipos de cada coluna.\n",
        "\n",
        "O *dataset* utilizado é a versão resumida disponibilizada pelo Airbnb. Na mesma página que baixamos o arquivo `listings.csv` existe a versão completa com 74 variáveis (`listings.csv.gz`), que é recomendada para uma análise exploratória aprofundada."
      ]
    },
    {
      "cell_type": "code",
      "metadata": {
        "colab": {
          "base_uri": "https://localhost:8080/",
          "height": 370
        },
        "id": "7bLwJ6lf5YB1",
        "outputId": "cfe19204-6f1b-4f67-d588-53e4fcca101d"
      },
      "source": [
        "# identificando o volume de dados do DataFrame\n",
        "print('Dimensões do Dataset')\n",
        "print(\"Entradas:\\t {}\".format(df.shape[0]))\n",
        "print(\"Variáveis:\\t {}\\n\".format(df.shape[1]))\n",
        "\n",
        "\n",
        "# verificando os tipos das colunas\n",
        "display(df.dtypes)"
      ],
      "execution_count": null,
      "outputs": [
        {
          "output_type": "stream",
          "text": [
            "Dimensões do Dataset\n",
            "Entradas:\t 7087\n",
            "Variáveis:\t 16\n",
            "\n"
          ],
          "name": "stdout"
        },
        {
          "output_type": "display_data",
          "data": {
            "text/plain": [
              "id                                  int64\n",
              "name                               object\n",
              "host_id                             int64\n",
              "host_name                          object\n",
              "neighbourhood_group               float64\n",
              "neighbourhood                      object\n",
              "latitude                          float64\n",
              "longitude                         float64\n",
              "room_type                          object\n",
              "price                               int64\n",
              "minimum_nights                      int64\n",
              "number_of_reviews                   int64\n",
              "last_review                        object\n",
              "reviews_per_month                 float64\n",
              "calculated_host_listings_count      int64\n",
              "availability_365                    int64\n",
              "dtype: object"
            ]
          },
          "metadata": {
            "tags": []
          }
        }
      ]
    },
    {
      "cell_type": "markdown",
      "metadata": {
        "id": "HOmt7yno5q5r"
      },
      "source": [
        "### **Identificando valores ausentes**\n",
        "\n",
        "Sabe-se que a qualidade de um *dataset* está diretamente relacionada à quantidade de valores ausentes, sendo assim é importante entender desde o início se esses valores nulos são significativos comparados ao total de entradas.\n",
        "\n",
        "Abaixo é possível ver que:\n",
        "\n",
        "* A coluna `neighbourhood_group` possui 100% dos seus valores faltantes.\n",
        "* As variáveis `reviews_per_month` e `last_review` possuem por volta de 45% de valores nulos.\n",
        "* As variáveis `host_name` e `name` têm aproximadamente 0,05% e 0,01% dos valores nulos, respectivamente."
      ]
    },
    {
      "cell_type": "code",
      "metadata": {
        "colab": {
          "base_uri": "https://localhost:8080/"
        },
        "id": "-bznyngV5hwo",
        "outputId": "3d365840-3103-4dff-d250-e0475fdc11f2"
      },
      "source": [
        "# verificando as variáveis por seus valores ausentes\n",
        "(df.isnull().sum()).sort_values(ascending=False)"
      ],
      "execution_count": null,
      "outputs": [
        {
          "output_type": "execute_result",
          "data": {
            "text/plain": [
              "neighbourhood_group               7087\n",
              "reviews_per_month                 3219\n",
              "last_review                       3219\n",
              "host_name                            4\n",
              "name                                 1\n",
              "availability_365                     0\n",
              "calculated_host_listings_count       0\n",
              "number_of_reviews                    0\n",
              "minimum_nights                       0\n",
              "price                                0\n",
              "room_type                            0\n",
              "longitude                            0\n",
              "latitude                             0\n",
              "neighbourhood                        0\n",
              "host_id                              0\n",
              "id                                   0\n",
              "dtype: int64"
            ]
          },
          "metadata": {
            "tags": []
          },
          "execution_count": 5
        }
      ]
    },
    {
      "cell_type": "markdown",
      "metadata": {
        "id": "BXvVKruC6VCv"
      },
      "source": [
        "#### Limpando os valores ausentes\n",
        "\n",
        "Colunas com grandes quantidades de valores ausentes e/ou com baixo poder preditivo podem ser excluídas. Assim, iremos excluir as colunas `neighbourhood_group`, `reviews_per_month` e `last_review`.\n",
        "\n",
        "Apesar de haver valores ausentes nas colunas `host_name` e `name`, a quantidade é extremamente baixa e não irá interferir em nossa análise, portanto limparemos os poucos valores nulos sem excluir as colunas."
      ]
    },
    {
      "cell_type": "code",
      "metadata": {
        "id": "SVzBuRDm53ob"
      },
      "source": [
        "# excluindo colunas com dados faltantes\n",
        "df.drop(columns=['neighbourhood_group','reviews_per_month', 'last_review'], inplace=True)"
      ],
      "execution_count": null,
      "outputs": []
    },
    {
      "cell_type": "code",
      "metadata": {
        "id": "591tez8K6tE4"
      },
      "source": [
        "# excluindo entradas com dados faltantes\n",
        "df.dropna(axis=0, inplace=True)"
      ],
      "execution_count": null,
      "outputs": []
    },
    {
      "cell_type": "markdown",
      "metadata": {
        "id": "TG0XThTF627z"
      },
      "source": [
        "Agora que limpamos os dados, vamos conferir o resultado:"
      ]
    },
    {
      "cell_type": "code",
      "metadata": {
        "colab": {
          "base_uri": "https://localhost:8080/"
        },
        "id": "0ynKfpU56yzr",
        "outputId": "8c6ccabe-904a-4b8e-8f66-5b463e0aba1f"
      },
      "source": [
        "# verificando o resultado\n",
        "(df.isnull().sum()).sort_values(ascending=False)"
      ],
      "execution_count": null,
      "outputs": [
        {
          "output_type": "execute_result",
          "data": {
            "text/plain": [
              "availability_365                  0\n",
              "calculated_host_listings_count    0\n",
              "number_of_reviews                 0\n",
              "minimum_nights                    0\n",
              "price                             0\n",
              "room_type                         0\n",
              "longitude                         0\n",
              "latitude                          0\n",
              "neighbourhood                     0\n",
              "host_name                         0\n",
              "host_id                           0\n",
              "name                              0\n",
              "id                                0\n",
              "dtype: int64"
            ]
          },
          "metadata": {
            "tags": []
          },
          "execution_count": 8
        }
      ]
    },
    {
      "cell_type": "markdown",
      "metadata": {
        "id": "UFtJoXFq7CfT"
      },
      "source": [
        "### **Qual o tipo de distribuição das variáveis?** \n",
        "\n",
        "Agora que nos livramos dos valores ausentes, iremos identificar a existencia de *outliers*. Para isso iremos plotar histogramas a fim de identificarmos a distribuição de variáveis."
      ]
    },
    {
      "cell_type": "code",
      "metadata": {
        "colab": {
          "base_uri": "https://localhost:8080/",
          "height": 607
        },
        "id": "3JsluCXM69gb",
        "outputId": "23e0058b-8d53-4890-94d8-d69dde8c87c9"
      },
      "source": [
        "# plotando histogramas das variáveis numéricas\n",
        "df.hist(bins=15, figsize=(15,10));"
      ],
      "execution_count": null,
      "outputs": [
        {
          "output_type": "display_data",
          "data": {
            "image/png": "[encoded data removed]",
            "text/plain": [
              "<Figure size 1080x720 with 9 Axes>"
            ]
          },
          "metadata": {
            "tags": [],
            "needs_background": "light"
          }
        }
      ]
    },
    {
      "cell_type": "markdown",
      "metadata": {
        "id": "D0WHSAzw8g4-"
      },
      "source": [
        "### **Identificando e tratando *outliers***\n",
        "\n",
        "Pela distribuição dos histogramas, é possível verificar indícios de *outliers* quando olhamos, por exemplo, para as variáveis `price`, `minimum_nights`, `calculated_host_listings_count` e `number_of_reviews`.\n",
        "\n",
        "Os valores estão evidentemente inflados e não seguem uma distribuição ordenada, distorcendo toda a representação gráfica. Para confirmarmos a presença de *outliers* há duas maneiras rápidas:\n",
        "\n",
        "* Resumo estatístico por meio do método `describe()`;\n",
        "* Plotar `boxplots` para a variável.\n",
        "\n",
        "Para ajudar na precisão da análise, iremos utilizar a regra do **IQR Score** para calcular os limites das variáveis.\n",
        "\n",
        "O IQR Score é calculado subtraindo o Terceiro Quartil (75%) pelo Primeiro Quartil (25%), sendo:\n",
        "\n",
        "# IQR = Q3 - Q1"
      ]
    },
    {
      "cell_type": "markdown",
      "metadata": {
        "id": "i5QunWHE_Nqe"
      },
      "source": [
        "#### Resumo *estatístico* por describe()\n",
        "\n",
        "Com o resumo estatístico, identificaremos pontos essenciais do *dataset* para a identificação de *outliers* como a média (mean), mediana (50%), os quartis (25%, 75%), o desvio de padrão (std) e valores mínimos e máximo encontrados nos nossos dados. Estes valores nos ajudarão a ter uma boa noção de onde estão os *outliers*."
      ]
    },
    {
      "cell_type": "code",
      "metadata": {
        "colab": {
          "base_uri": "https://localhost:8080/",
          "height": 284
        },
        "id": "e7hoFEEH7dpc",
        "outputId": "adb5d3e3-d5db-492c-95f8-8d45b0d197b1"
      },
      "source": [
        "# aplicando o describe para visualizar o resumo estatístico das variáveis númericas\n",
        "df[['price', 'minimum_nights', 'number_of_reviews', 'calculated_host_listings_count', 'availability_365']].describe()"
      ],
      "execution_count": null,
      "outputs": [
        {
          "output_type": "execute_result",
          "data": {
            "text/html": [
              "<div>\n",
              "<style scoped>\n",
              "    .dataframe tbody tr th:only-of-type {\n",
              "        vertical-align: middle;\n",
              "    }\n",
              "\n",
              "    .dataframe tbody tr th {\n",
              "        vertical-align: top;\n",
              "    }\n",
              "\n",
              "    .dataframe thead th {\n",
              "        text-align: right;\n",
              "    }\n",
              "</style>\n",
              "<table border=\"1\" class=\"dataframe\">\n",
              "  <thead>\n",
              "    <tr style=\"text-align: right;\">\n",
              "      <th></th>\n",
              "      <th>price</th>\n",
              "      <th>minimum_nights</th>\n",
              "      <th>number_of_reviews</th>\n",
              "      <th>calculated_host_listings_count</th>\n",
              "      <th>availability_365</th>\n",
              "    </tr>\n",
              "  </thead>\n",
              "  <tbody>\n",
              "    <tr>\n",
              "      <th>count</th>\n",
              "      <td>7082.000000</td>\n",
              "      <td>7082.000000</td>\n",
              "      <td>7082.000000</td>\n",
              "      <td>7082.000000</td>\n",
              "      <td>7082.000000</td>\n",
              "    </tr>\n",
              "    <tr>\n",
              "      <th>mean</th>\n",
              "      <td>746.175515</td>\n",
              "      <td>13.598560</td>\n",
              "      <td>18.924033</td>\n",
              "      <td>67.352584</td>\n",
              "      <td>237.258825</td>\n",
              "    </tr>\n",
              "    <tr>\n",
              "      <th>std</th>\n",
              "      <td>1938.902088</td>\n",
              "      <td>24.080807</td>\n",
              "      <td>46.699983</td>\n",
              "      <td>116.357451</td>\n",
              "      <td>142.907079</td>\n",
              "    </tr>\n",
              "    <tr>\n",
              "      <th>min</th>\n",
              "      <td>1.000000</td>\n",
              "      <td>1.000000</td>\n",
              "      <td>0.000000</td>\n",
              "      <td>1.000000</td>\n",
              "      <td>0.000000</td>\n",
              "    </tr>\n",
              "    <tr>\n",
              "      <th>25%</th>\n",
              "      <td>248.000000</td>\n",
              "      <td>1.000000</td>\n",
              "      <td>0.000000</td>\n",
              "      <td>2.000000</td>\n",
              "      <td>90.000000</td>\n",
              "    </tr>\n",
              "    <tr>\n",
              "      <th>50%</th>\n",
              "      <td>386.000000</td>\n",
              "      <td>2.000000</td>\n",
              "      <td>1.000000</td>\n",
              "      <td>9.000000</td>\n",
              "      <td>337.000000</td>\n",
              "    </tr>\n",
              "    <tr>\n",
              "      <th>75%</th>\n",
              "      <td>700.000000</td>\n",
              "      <td>28.000000</td>\n",
              "      <td>12.000000</td>\n",
              "      <td>46.000000</td>\n",
              "      <td>364.000000</td>\n",
              "    </tr>\n",
              "    <tr>\n",
              "      <th>max</th>\n",
              "      <td>83665.000000</td>\n",
              "      <td>366.000000</td>\n",
              "      <td>828.000000</td>\n",
              "      <td>378.000000</td>\n",
              "      <td>365.000000</td>\n",
              "    </tr>\n",
              "  </tbody>\n",
              "</table>\n",
              "</div>"
            ],
            "text/plain": [
              "              price  ...  availability_365\n",
              "count   7082.000000  ...       7082.000000\n",
              "mean     746.175515  ...        237.258825\n",
              "std     1938.902088  ...        142.907079\n",
              "min        1.000000  ...          0.000000\n",
              "25%      248.000000  ...         90.000000\n",
              "50%      386.000000  ...        337.000000\n",
              "75%      700.000000  ...        364.000000\n",
              "max    83665.000000  ...        365.000000\n",
              "\n",
              "[8 rows x 5 columns]"
            ]
          },
          "metadata": {
            "tags": []
          },
          "execution_count": 10
        }
      ]
    },
    {
      "cell_type": "markdown",
      "metadata": {
        "id": "aBt1vMUdBQMy"
      },
      "source": [
        "Observando o resumo estatístico acima, podemos constatar algumas coisas:\n",
        "\n",
        "* A variável `price` possui 75% do valor abaixo de 700, porém o seu valor máximo é de 83665, o que equivaleria a um aluguel de aproximadamente 10.000 USD. Além disso, vemos que o valor mínimo é 1, o que não faz sentido com a realidade quando consideramos valores de aluguel.\n",
        "\n",
        "* A variável `minimum_nights` possui 75% do valor abaixo de 28, mas seu máximo é 366. Além da discrepância entre os valores, excede em um a quantidade de dias do ano, uma vez que 2021 não é bissexto. Seguindo a lógica, podemos considerar que seria muito difícil alguém exigir o tempo minimo de estadia no Airbnb tenha que ser de um ano.\n",
        "\n",
        "* Embora a variável `availability_365` pareça dentro dos limites reais, notamos que seu valor minimo é 0, o que parece estranho. Entretanto, consideraremos a possibilidade de imóveis listados que estão temporariamente indisponíveis por algum motivo, assim não iremos tratar essa variável agora.\n",
        "\n",
        "* As outras variáveis também podem conter *outliers*, mas não iremos nos preocupar com elas uma vez que não afetará nossa análise.\n"
      ]
    },
    {
      "cell_type": "markdown",
      "metadata": {
        "id": "k-WeE6rjEhlg"
      },
      "source": [
        "#### Tratando os *outliers*\n",
        "\n",
        "Para tratá-los, precisaremos definir o IQR, portanto nós iremos:\n",
        "\n",
        "* Definir o Q1 e Q3 para as variáveis que serão limpas;\n",
        "* Calcular o IQR para as variáveis de interesse;\n",
        "* Definir o limite superior e inferior de corte para os *outliers*;\n",
        "* Por fim, iremos removê-los.\n",
        "\n",
        "Começaremos com a variável `price`:"
      ]
    },
    {
      "cell_type": "code",
      "metadata": {
        "colab": {
          "base_uri": "https://localhost:8080/"
        },
        "id": "NLa2QgU0_qKa",
        "outputId": "4545f1d5-034c-4763-ca85-b9ed761537f3"
      },
      "source": [
        "# identificando os outliers para a variável price\n",
        "q1_price = df.price.quantile(.25)\n",
        "q3_price = df.price.quantile(.75)\n",
        "IQR_price = q3_price - q1_price\n",
        "print('IQR da variável price: ', IQR_price)\n",
        "\n",
        "# definindo os limites superior e inferior\n",
        "sup_price = q3_price + 1.5 * IQR_price\n",
        "inf_price = q1_price - 1.5 * IQR_price\n",
        "\n",
        "print('Limite superior de price: ', sup_price)\n",
        "print('Limite inferior de price:', inf_price)"
      ],
      "execution_count": null,
      "outputs": [
        {
          "output_type": "stream",
          "text": [
            "IQR da variável price:  452.0\n",
            "Limite superior de price:  1378.0\n",
            "Limite inferior de price: -430.0\n"
          ],
          "name": "stdout"
        }
      ]
    },
    {
      "cell_type": "markdown",
      "metadata": {
        "id": "9EvQjeYfHwOa"
      },
      "source": [
        "Com isso, vemos que os valores que excedem em muito os 1378 são *outliers* de fato, enquanto percebemos também que existem valores como 0, o que, como já foi dito, não condiz com a realidade e portanto, precisam ser tratados."
      ]
    },
    {
      "cell_type": "markdown",
      "metadata": {
        "id": "NMkOSx7_IEBo"
      },
      "source": [
        "Agora faremos o da variável `minimum_nights`:"
      ]
    },
    {
      "cell_type": "code",
      "metadata": {
        "colab": {
          "base_uri": "https://localhost:8080/"
        },
        "id": "v7iTz81jGs9p",
        "outputId": "6b472b68-b4e3-4ed3-9902-83e85416bf91"
      },
      "source": [
        "# identificando os outliers para a variável minimum_nights\n",
        "q1_minimum_nights = df.minimum_nights.quantile(.25)\n",
        "q3_minimum_nights = df.minimum_nights.quantile(.75)\n",
        "IQR_minimum_nights = q3_minimum_nights - q1_minimum_nights\n",
        "print('IQR da variável minimum_nights: ', IQR_minimum_nights)\n",
        "\n",
        "# definindo os limites superior e inferior\n",
        "sup_minimum_nights = q3_minimum_nights + 1.5 * IQR_minimum_nights\n",
        "inf_minimum_nights = q1_minimum_nights - 1.5 * IQR_minimum_nights\n",
        "\n",
        "print('Limite superior de minimum_nights: ', sup_minimum_nights)\n",
        "print('Limite inferior de minimum_nights: ', inf_minimum_nights)"
      ],
      "execution_count": null,
      "outputs": [
        {
          "output_type": "stream",
          "text": [
            "IQR da variável minimum_nights:  27.0\n",
            "Limite superior de minimum_nights:  68.5\n",
            "Limite inferior de minimum_nights:  -39.5\n"
          ],
          "name": "stdout"
        }
      ]
    },
    {
      "cell_type": "markdown",
      "metadata": {
        "id": "DyYAszcvJt7H"
      },
      "source": [
        "Aqui, vemos que valores acima de 68 dias são *outliers* e precisam ser excluídos. É importante perceber que, embora tenhamos esse valor negativo no limite inferior, a variável possui valor minimo em 1, o que é totalmente condizível com a realidade, portanto, não temos nada errado nessa parte."
      ]
    },
    {
      "cell_type": "markdown",
      "metadata": {
        "id": "ZNS6pKcmPz5y"
      },
      "source": [
        "#### Limpando os outliers\n",
        "\n",
        "Antes de plotarmos os boxplots, iremos realizar a limpeza dos outliers no *dataset*. Para fazermos isso com segurança e posteriormente comparar os resultados, faremos uma cópia de segurança para nosso *dataset* limpo, chamada `df_clean`."
      ]
    },
    {
      "cell_type": "code",
      "metadata": {
        "id": "5JwVMsglQ6DT"
      },
      "source": [
        "# criando cópia de segurança\n",
        "df_clean = df.copy()"
      ],
      "execution_count": null,
      "outputs": []
    },
    {
      "cell_type": "code",
      "metadata": {
        "colab": {
          "base_uri": "https://localhost:8080/"
        },
        "id": "IdlQhCd6QmUK",
        "outputId": "e5f98357-5c89-4608-e826-3e908b808f8a"
      },
      "source": [
        "# limpando o dataset\n",
        "df_clean.drop(df_clean[df_clean.price > 1378.0].index, axis=0, inplace=True)\n",
        "df_clean.drop(df_clean[df_clean.price == 0.0].index, axis=0, inplace=True)\n",
        "df_clean.drop(df_clean[df_clean.minimum_nights > 68.5].index, axis=0, inplace=True)\n",
        "\n",
        "print('Shape antes da limpeza: ', df.shape)\n",
        "print('Shape após a limpeza: ',df_clean.shape)"
      ],
      "execution_count": null,
      "outputs": [
        {
          "output_type": "stream",
          "text": [
            "Shape antes da limpeza:  (7082, 13)\n",
            "Shape após a limpeza:  (6373, 13)\n"
          ],
          "name": "stdout"
        }
      ]
    },
    {
      "cell_type": "markdown",
      "metadata": {
        "id": "kg9DAFdpPN0D"
      },
      "source": [
        "#### Plotando boxplots\n",
        "\n",
        "O boxplot é uma excelente ferramente de visualização de dados que permite que identifiquemos os *outliers* com facilidade. Iremos plotá-los utilizando a versão original do *dataset* e depois, iremos plotá-los usando a versão limpa do *dataset*, assim visualizando a diferença feita pela limpeza.\n",
        "\n",
        "Começaremos pela variável `price`:"
      ]
    },
    {
      "cell_type": "code",
      "metadata": {
        "colab": {
          "base_uri": "https://localhost:8080/",
          "height": 278
        },
        "id": "90Nh_o3jIJxf",
        "outputId": "61e37c9a-3761-4a01-fc88-fdf7bea42832"
      },
      "source": [
        "# plotando boxplot do dataset original para price\n",
        "fig, ax = plt.subplots(figsize=(15,3))\n",
        "df.price.plot(kind='box', vert=False);\n",
        "ax.set_title('Dataset Original - Price')\n",
        "plt.show()\n",
        "print(\"O dataset possui {} entradas\".format(df.shape[0]))\n",
        "print(\"{} Entradas acima de 1378.0\".format(len(df[df.price > 1378.0])))\n",
        "print(\"Representam {:.2f}% do dataset\".format((len(df[df.price > 1378.0]) / df.shape[0])*100))"
      ],
      "execution_count": null,
      "outputs": [
        {
          "output_type": "display_data",
          "data": {
            "image/png": "[encoded data removed]",
            "text/plain": [
              "<Figure size 1080x216 with 1 Axes>"
            ]
          },
          "metadata": {
            "tags": [],
            "needs_background": "light"
          }
        },
        {
          "output_type": "stream",
          "text": [
            "O dataset possui 7082 entradas\n",
            "620 Entradas acima de 1378.0\n",
            "Representam 8.75% do dataset\n"
          ],
          "name": "stdout"
        }
      ]
    },
    {
      "cell_type": "markdown",
      "metadata": {
        "id": "IZohsVoxTni8"
      },
      "source": [
        "No boxplot do *dataset* original, é evidente que existem *outliers* extremamente discrepantes, com valores ultrapassando 80000 HKD, o que impede uma boa visualização dos valores dentro do limite, ou seja, impossibilita os valores reais de aparecerem no gráfico.\n",
        "\n",
        "Esses *outliers* representam uma porcentagem pequena em nosso dataset, não sendo uma perda significativa para nossa análise, que ganhará em precisão. \n",
        "\n",
        "Agora vejamos o boxplot de price depois da limpeza desses *outliers*:"
      ]
    },
    {
      "cell_type": "code",
      "metadata": {
        "colab": {
          "base_uri": "https://localhost:8080/",
          "height": 261
        },
        "id": "GUtUV3E3TCIN",
        "outputId": "732d4ef1-f789-467e-ede9-49718dace3a0"
      },
      "source": [
        "# plotando o boxplot do dataset limpo para price\n",
        "dig, ax = plt.subplots(figsize=(15,3))\n",
        "df_clean.price.plot(kind='box', vert=False);\n",
        "ax.set_title('Dataset Limpo - Price')\n",
        "plt.show()\n",
        "print(\"Tamanho original: {} entradas\".format(df.shape[0]))\n",
        "print(\"Tamanho atual: {} entradas\".format(df_clean.shape[0]))"
      ],
      "execution_count": null,
      "outputs": [
        {
          "output_type": "display_data",
          "data": {
            "image/png": "[encoded data removed]",
            "text/plain": [
              "<Figure size 1080x216 with 1 Axes>"
            ]
          },
          "metadata": {
            "tags": [],
            "needs_background": "light"
          }
        },
        {
          "output_type": "stream",
          "text": [
            "Tamanho original: 7082 colunas\n",
            "Tamanho atual: 6373 colunas\n"
          ],
          "name": "stdout"
        }
      ]
    },
    {
      "cell_type": "markdown",
      "metadata": {
        "id": "faD1G3oqVS_7"
      },
      "source": [
        "Agora conseguimos visualizar bem os valores no gráfico, identificando facilmente o primeiro quartil (primeira barra) e o terceiro quartil (segunda barra). Ainda vemos alguns *outliers*, entretanto em uma quantidade significantemente reduzida e com valores não tão distantes do nosso limite, assim não afetando nossa análise e abrangindo imóveis que possuem valores mais caros, como é o caso de imóveis de luxo.\n",
        "\n",
        "Agora iremos para a variável `minimum_nights`:"
      ]
    },
    {
      "cell_type": "code",
      "metadata": {
        "colab": {
          "base_uri": "https://localhost:8080/",
          "height": 278
        },
        "id": "YvYLNqKwVPrx",
        "outputId": "683eee96-6e0a-4c2b-a977-fda780bff848"
      },
      "source": [
        "# plotando boxplot para o dataset original para minimum_nights\n",
        "fig, ax = plt.subplots(figsize=(15,3))\n",
        "df.minimum_nights.plot(kind='box', vert=False);\n",
        "ax.set_title('Dataset Original - Minimum_nights')\n",
        "plt.show()\n",
        "print(\"O dataset possui {} colunas\".format(df.shape[0]))\n",
        "print(\"{} Entradas acima de 68.5\".format(len(df[df.minimum_nights > 68.5])))\n",
        "print(\"Representam {:.2f}% do dataset\".format((len(df[df.minimum_nights > 68.5]) / df.shape[0])))"
      ],
      "execution_count": null,
      "outputs": [
        {
          "output_type": "display_data",
          "data": {
            "image/png": "[encoded data removed]",
            "text/plain": [
              "<Figure size 1080x216 with 1 Axes>"
            ]
          },
          "metadata": {
            "tags": [],
            "needs_background": "light"
          }
        },
        {
          "output_type": "stream",
          "text": [
            "O dataset possui 7082 colunas\n",
            "98 Entradas acima de 68.5\n",
            "Representam 0.01% do dataset\n"
          ],
          "name": "stdout"
        }
      ]
    },
    {
      "cell_type": "markdown",
      "metadata": {
        "id": "_LWZcRFIXxCl"
      },
      "source": [
        "Já no *dataset* original de minimum_nights, conseguimos ver um pouco do terceiro quartil e constatar alguns *outliers*, mas em pouquissima quantidade comparado a variável price. Apesar da baixa quantidade, ainda temos dificuldade de visualização gráfica. \n",
        "\n",
        "Vamos checar o boxplot com o *dataset* limpo:"
      ]
    },
    {
      "cell_type": "code",
      "metadata": {
        "colab": {
          "base_uri": "https://localhost:8080/",
          "height": 261
        },
        "id": "b99Ey-YgXuUg",
        "outputId": "d94dd5c1-1d7f-43ce-ae36-a3aec515a4f5"
      },
      "source": [
        "# plotando boxplot com dataset limpo para minimum_nights\n",
        "fig, ax = plt.subplots(figsize=(15,3))\n",
        "df_clean.minimum_nights.plot(kind='box', vert=False);\n",
        "ax.set_title('Dataset Original - Minimum_nights')\n",
        "plt.show()\n",
        "print(\"Tamanho original: {} colunas\".format(df.shape[0]))\n",
        "print(\"Tamanho atual: {} colunas\".format(df_clean.shape[0]))"
      ],
      "execution_count": null,
      "outputs": [
        {
          "output_type": "display_data",
          "data": {
            "image/png": "[encoded data removed]",
            "text/plain": [
              "<Figure size 1080x216 with 1 Axes>"
            ]
          },
          "metadata": {
            "tags": [],
            "needs_background": "light"
          }
        },
        {
          "output_type": "stream",
          "text": [
            "Tamanho original: 7082 colunas\n",
            "Tamanho atual: 6373 colunas\n"
          ],
          "name": "stdout"
        }
      ]
    },
    {
      "cell_type": "markdown",
      "metadata": {
        "id": "cKxcR43JZJ7L"
      },
      "source": [
        "É possível ver os quartis com clareza e observar que não há *outliers* na variável.\n",
        "\n",
        "Embora os boxplots sejam ótimos visualizadores de *outliers*, eles estão sendo calculados considerando os quartis dos dados originais.\n",
        "\n",
        "Para garantirmos que não existem mais *outliers* prejudiciais a nossa análise, iremos plotar histogramas e o resumo estatístico novamente:\n",
        "\n"
      ]
    },
    {
      "cell_type": "code",
      "metadata": {
        "colab": {
          "base_uri": "https://localhost:8080/",
          "height": 879
        },
        "id": "1aghUZxPZGKp",
        "outputId": "cc2bbe12-7bcd-4e6d-9fa3-18c58c4287b1"
      },
      "source": [
        "# plotando histogramas para verificar as distribuições das variáveis\n",
        "df_clean.hist(figsize=(20,15), grid=False);"
      ],
      "execution_count": null,
      "outputs": [
        {
          "output_type": "display_data",
          "data": {
            "image/png": "[encoded data removed]",
            "text/plain": [
              "<Figure size 1440x1080 with 9 Axes>"
            ]
          },
          "metadata": {
            "tags": [],
            "needs_background": "light"
          }
        }
      ]
    },
    {
      "cell_type": "code",
      "metadata": {
        "colab": {
          "base_uri": "https://localhost:8080/",
          "height": 284
        },
        "id": "dDEQZd9Ob_VQ",
        "outputId": "bbead596-f10e-452f-ddec-f6009056d3ef"
      },
      "source": [
        "# verificando a distribuição estatística dos dados limpos\n",
        "df_clean[['price', 'minimum_nights', 'number_of_reviews', 'calculated_host_listings_count', 'availability_365']].describe()"
      ],
      "execution_count": null,
      "outputs": [
        {
          "output_type": "execute_result",
          "data": {
            "text/html": [
              "<div>\n",
              "<style scoped>\n",
              "    .dataframe tbody tr th:only-of-type {\n",
              "        vertical-align: middle;\n",
              "    }\n",
              "\n",
              "    .dataframe tbody tr th {\n",
              "        vertical-align: top;\n",
              "    }\n",
              "\n",
              "    .dataframe thead th {\n",
              "        text-align: right;\n",
              "    }\n",
              "</style>\n",
              "<table border=\"1\" class=\"dataframe\">\n",
              "  <thead>\n",
              "    <tr style=\"text-align: right;\">\n",
              "      <th></th>\n",
              "      <th>price</th>\n",
              "      <th>minimum_nights</th>\n",
              "      <th>number_of_reviews</th>\n",
              "      <th>calculated_host_listings_count</th>\n",
              "      <th>availability_365</th>\n",
              "    </tr>\n",
              "  </thead>\n",
              "  <tbody>\n",
              "    <tr>\n",
              "      <th>count</th>\n",
              "      <td>6373.000000</td>\n",
              "      <td>6373.000000</td>\n",
              "      <td>6373.000000</td>\n",
              "      <td>6373.000000</td>\n",
              "      <td>6373.000000</td>\n",
              "    </tr>\n",
              "    <tr>\n",
              "      <th>mean</th>\n",
              "      <td>445.132434</td>\n",
              "      <td>12.177781</td>\n",
              "      <td>18.941001</td>\n",
              "      <td>73.042994</td>\n",
              "      <td>239.372195</td>\n",
              "    </tr>\n",
              "    <tr>\n",
              "      <th>std</th>\n",
              "      <td>284.250658</td>\n",
              "      <td>14.117132</td>\n",
              "      <td>46.344682</td>\n",
              "      <td>120.658094</td>\n",
              "      <td>142.851792</td>\n",
              "    </tr>\n",
              "    <tr>\n",
              "      <th>min</th>\n",
              "      <td>65.000000</td>\n",
              "      <td>1.000000</td>\n",
              "      <td>0.000000</td>\n",
              "      <td>1.000000</td>\n",
              "      <td>0.000000</td>\n",
              "    </tr>\n",
              "    <tr>\n",
              "      <th>25%</th>\n",
              "      <td>234.000000</td>\n",
              "      <td>1.000000</td>\n",
              "      <td>0.000000</td>\n",
              "      <td>3.000000</td>\n",
              "      <td>90.000000</td>\n",
              "    </tr>\n",
              "    <tr>\n",
              "      <th>50%</th>\n",
              "      <td>350.000000</td>\n",
              "      <td>2.000000</td>\n",
              "      <td>1.000000</td>\n",
              "      <td>10.000000</td>\n",
              "      <td>350.000000</td>\n",
              "    </tr>\n",
              "    <tr>\n",
              "      <th>75%</th>\n",
              "      <td>588.000000</td>\n",
              "      <td>28.000000</td>\n",
              "      <td>12.000000</td>\n",
              "      <td>80.000000</td>\n",
              "      <td>364.000000</td>\n",
              "    </tr>\n",
              "    <tr>\n",
              "      <th>max</th>\n",
              "      <td>1378.000000</td>\n",
              "      <td>61.000000</td>\n",
              "      <td>828.000000</td>\n",
              "      <td>378.000000</td>\n",
              "      <td>365.000000</td>\n",
              "    </tr>\n",
              "  </tbody>\n",
              "</table>\n",
              "</div>"
            ],
            "text/plain": [
              "             price  ...  availability_365\n",
              "count  6373.000000  ...       6373.000000\n",
              "mean    445.132434  ...        239.372195\n",
              "std     284.250658  ...        142.851792\n",
              "min      65.000000  ...          0.000000\n",
              "25%     234.000000  ...         90.000000\n",
              "50%     350.000000  ...        350.000000\n",
              "75%     588.000000  ...        364.000000\n",
              "max    1378.000000  ...        365.000000\n",
              "\n",
              "[8 rows x 5 columns]"
            ]
          },
          "metadata": {
            "tags": []
          },
          "execution_count": 17
        }
      ]
    },
    {
      "cell_type": "markdown",
      "metadata": {
        "id": "OaklQs-xnLs0"
      },
      "source": [
        "### Existem correlações entre as variáveis?\n",
        "\n",
        "Aqui buscaremos medir a relação ou semelhança entre duas variáveis através do coeficiente de correlação e estabelecer qual é a intensidade dela. Para identificar correlações existentes entre as variaveis de interesse, iremos:\n",
        "\n",
        "* Criar uma matriz de correlação;\n",
        "* Gerar um *heatmap* (ou mapa de calor), usando a biblioteca `seaborn`."
      ]
    },
    {
      "cell_type": "code",
      "metadata": {
        "colab": {
          "base_uri": "https://localhost:8080/",
          "height": 195
        },
        "id": "cKiBZTH6ebUU",
        "outputId": "d05db6f2-c4bb-4a4b-ed6b-4b694cc33934"
      },
      "source": [
        "# criando uma matriz de correlação\n",
        "corr = df_clean[['price', 'minimum_nights', 'number_of_reviews', 'calculated_host_listings_count', 'availability_365']].corr()\n",
        "\n",
        "display(corr)"
      ],
      "execution_count": null,
      "outputs": [
        {
          "output_type": "display_data",
          "data": {
            "text/html": [
              "<div>\n",
              "<style scoped>\n",
              "    .dataframe tbody tr th:only-of-type {\n",
              "        vertical-align: middle;\n",
              "    }\n",
              "\n",
              "    .dataframe tbody tr th {\n",
              "        vertical-align: top;\n",
              "    }\n",
              "\n",
              "    .dataframe thead th {\n",
              "        text-align: right;\n",
              "    }\n",
              "</style>\n",
              "<table border=\"1\" class=\"dataframe\">\n",
              "  <thead>\n",
              "    <tr style=\"text-align: right;\">\n",
              "      <th></th>\n",
              "      <th>price</th>\n",
              "      <th>minimum_nights</th>\n",
              "      <th>number_of_reviews</th>\n",
              "      <th>calculated_host_listings_count</th>\n",
              "      <th>availability_365</th>\n",
              "    </tr>\n",
              "  </thead>\n",
              "  <tbody>\n",
              "    <tr>\n",
              "      <th>price</th>\n",
              "      <td>1.000000</td>\n",
              "      <td>-0.210394</td>\n",
              "      <td>0.061383</td>\n",
              "      <td>-0.342109</td>\n",
              "      <td>-0.144812</td>\n",
              "    </tr>\n",
              "    <tr>\n",
              "      <th>minimum_nights</th>\n",
              "      <td>-0.210394</td>\n",
              "      <td>1.000000</td>\n",
              "      <td>-0.231108</td>\n",
              "      <td>0.603377</td>\n",
              "      <td>0.306135</td>\n",
              "    </tr>\n",
              "    <tr>\n",
              "      <th>number_of_reviews</th>\n",
              "      <td>0.061383</td>\n",
              "      <td>-0.231108</td>\n",
              "      <td>1.000000</td>\n",
              "      <td>-0.211219</td>\n",
              "      <td>-0.136852</td>\n",
              "    </tr>\n",
              "    <tr>\n",
              "      <th>calculated_host_listings_count</th>\n",
              "      <td>-0.342109</td>\n",
              "      <td>0.603377</td>\n",
              "      <td>-0.211219</td>\n",
              "      <td>1.000000</td>\n",
              "      <td>0.373344</td>\n",
              "    </tr>\n",
              "    <tr>\n",
              "      <th>availability_365</th>\n",
              "      <td>-0.144812</td>\n",
              "      <td>0.306135</td>\n",
              "      <td>-0.136852</td>\n",
              "      <td>0.373344</td>\n",
              "      <td>1.000000</td>\n",
              "    </tr>\n",
              "  </tbody>\n",
              "</table>\n",
              "</div>"
            ],
            "text/plain": [
              "                                   price  ...  availability_365\n",
              "price                           1.000000  ...         -0.144812\n",
              "minimum_nights                 -0.210394  ...          0.306135\n",
              "number_of_reviews               0.061383  ...         -0.136852\n",
              "calculated_host_listings_count -0.342109  ...          0.373344\n",
              "availability_365               -0.144812  ...          1.000000\n",
              "\n",
              "[5 rows x 5 columns]"
            ]
          },
          "metadata": {
            "tags": []
          }
        }
      ]
    },
    {
      "cell_type": "code",
      "metadata": {
        "id": "0-xQjnXLoici",
        "colab": {
          "base_uri": "https://localhost:8080/",
          "height": 428
        },
        "outputId": "a706e366-f94d-4d79-adf3-c81a91bf510c"
      },
      "source": [
        "# plotando o heatmap\n",
        "sns.heatmap(corr, cmap='RdBu', fmt='.2f', square=True, linecolor='white', annot=True)"
      ],
      "execution_count": null,
      "outputs": [
        {
          "output_type": "execute_result",
          "data": {
            "text/plain": [
              "<matplotlib.axes._subplots.AxesSubplot at 0x7f7abf8e5510>"
            ]
          },
          "metadata": {
            "tags": []
          },
          "execution_count": 23
        },
        {
          "output_type": "display_data",
          "data": {
            "image/png": "[encoded data removed]",
            "text/plain": [
              "<Figure size 432x288 with 2 Axes>"
            ]
          },
          "metadata": {
            "tags": [],
            "needs_background": "light"
          }
        }
      ]
    },
    {
      "cell_type": "markdown",
      "metadata": {
        "id": "jHvg-S3GqQu1"
      },
      "source": [
        "Para entendermos como funciona o *heatmap*, é importante sabermos que o azul indica certo nível de correlação e o vermelho nenhum nível de correlação, e a intensidade dessa correlação é medida pela intensidade da cor, ou seja, quanto mais escuro o azul ou o vermelho, maior ou menor a correlação entre as variáveis.\n",
        "\n",
        "Como não tratamos as variáveis `calculated_host_listings_count` e `availability_365`, não teremos a precisão do quão correlacionadas a estas variáveis as outras realmente estão, entretanto, seguindo a limpeza feita nas outras variáveis, vamos considerar o mapa, assim:\n",
        "\n",
        "* Existe correlação não significativa entre o mínimo de noites exigido pelo anfitrião e a quantidade de imóveis que o mesmo possuí;"
      ]
    },
    {
      "cell_type": "markdown",
      "metadata": {
        "id": "7xvY3HyNs8vf"
      },
      "source": [
        "## Análisando os Dados\n",
        "\n",
        "Agora que os dados foram devidamente limpos e conseguimos ter boas visualizações, estamos prontos para extrair *insights* e responder as perguntas que pretendiamos a princípio."
      ]
    },
    {
      "cell_type": "markdown",
      "metadata": {
        "id": "8v9gcd-wsnmV"
      },
      "source": [
        "### **1. Qual o tipo de imóvel mais disponível para aluguel no Airbnb em Hong Kong?**\n",
        "\n",
        "A variável `room_type` indica o tipo de locação que está sendo anunciada no Airbnb. Se você já alugou pelo site sabe que existem algumas opções: apartamentos e casas inteiras, quartos individuais, quartos compartilhados e quartos de hotel.\n",
        "\n",
        "Vamos verificar a quantidade de ocorrência de cada tipo de aluguel, usando o método `value_counts()` e descobrir qual o tipo de aluguel mais fácil de encontrar para quem está em Hong Kong."
      ]
    },
    {
      "cell_type": "code",
      "metadata": {
        "id": "S7G8oZvapHwj",
        "colab": {
          "base_uri": "https://localhost:8080/"
        },
        "outputId": "e4778ab0-eea2-45c5-fcf8-73494ccdb0e8"
      },
      "source": [
        "# verificando a quantidade de cada tipo de imóvel disponível\n",
        "df_clean.room_type.value_counts()"
      ],
      "execution_count": null,
      "outputs": [
        {
          "output_type": "execute_result",
          "data": {
            "text/plain": [
              "Private room       3696\n",
              "Entire home/apt    2118\n",
              "Shared room         411\n",
              "Hotel room          148\n",
              "Name: room_type, dtype: int64"
            ]
          },
          "metadata": {
            "tags": []
          },
          "execution_count": 24
        }
      ]
    },
    {
      "cell_type": "code",
      "metadata": {
        "colab": {
          "base_uri": "https://localhost:8080/"
        },
        "id": "-_L5J_hGJ6n1",
        "outputId": "7daf1600-2265-4d4e-9b16-f9a3bf581a67"
      },
      "source": [
        "# verificando a porcentagem dos tipos de imóvel disponíveis\n",
        "room_type_per = df_clean.room_type.value_counts() / df_clean.shape[0] *100\n",
        "print(room_type_per)"
      ],
      "execution_count": null,
      "outputs": [
        {
          "output_type": "stream",
          "text": [
            "Private room       57.994665\n",
            "Entire home/apt    33.233956\n",
            "Shared room         6.449082\n",
            "Hotel room          2.322297\n",
            "Name: room_type, dtype: float64\n"
          ],
          "name": "stdout"
        }
      ]
    },
    {
      "cell_type": "code",
      "metadata": {
        "colab": {
          "base_uri": "https://localhost:8080/",
          "height": 281
        },
        "id": "62Q67OKltQEn",
        "outputId": "509a2a2c-9176-4782-9dc9-06c126d0f5ed"
      },
      "source": [
        "# plotando gráfico de porcentagem para room_type\n",
        "ax = sns.barplot(x=room_type_per.index, y=room_type_per) \n",
        "ax.set_title('Porcentagem de Tipos de Imóveis')\n",
        "ax.tick_params(bottom=False, top=False, left=False, right=False);\n",
        "ax.set_ylabel('%', fontsize=12)\n",
        "for kew, spine in ax.spines.items():\n",
        "    spine.set_visible(False)"
      ],
      "execution_count": null,
      "outputs": [
        {
          "output_type": "display_data",
          "data": {
            "image/png": "[encoded data removed]",
            "text/plain": [
              "<Figure size 432x288 with 1 Axes>"
            ]
          },
          "metadata": {
            "tags": [],
            "needs_background": "light"
          }
        }
      ]
    },
    {
      "cell_type": "markdown",
      "metadata": {
        "id": "DvWkWgqttjM9"
      },
      "source": [
        "Vemos que o tipo de aluguel mais popular é o do quarto individual, tendo aproximadamente 58% da disponibilidade, seguido por casa/apartamento inteiro com aproximadamente 33%. Quartos compartilhados possuem 6% e quartos de hotel apenas 2%, sendo a escolha menos popular."
      ]
    },
    {
      "cell_type": "markdown",
      "metadata": {
        "id": "IZOD_uY3uDSG"
      },
      "source": [
        "### **Quais os distritos com alugueis mais caros no Airbnb em Hong Kong?**\n",
        "\n",
        "Com certeza essa é uma das perguntas mais importantes na viagem.\n",
        "\n",
        "Uma maneira de verificar uma variável em função de outra é usando `groupby()`. Nesse caso, queremos comparar os bairros (*neighbourhoods*) a partir do preço de locação.\n",
        "\n",
        "Primeiro, veremos quais bairros estão listados no Airbnb e depois, formaremos um ranking dos mais caros considerando a média dos valores:"
      ]
    },
    {
      "cell_type": "code",
      "metadata": {
        "colab": {
          "base_uri": "https://localhost:8080/"
        },
        "id": "RxTBS65eyPbn",
        "outputId": "7974788e-8afc-4328-e0fc-5ebb9bed83f5"
      },
      "source": [
        "df_clean['neighbourhood'].unique()"
      ],
      "execution_count": null,
      "outputs": [
        {
          "output_type": "execute_result",
          "data": {
            "text/plain": [
              "array(['Central & Western', 'Yau Tsim Mong', 'Wan Chai', 'Yuen Long',\n",
              "       'Kowloon City', 'Islands', 'North', 'Sham Shui Po', 'Tuen Mun',\n",
              "       'Southern', 'Eastern', 'Sai Kung', 'Wong Tai Sin', 'Kwai Tsing',\n",
              "       'Tsuen Wan', 'Sha Tin', 'Tai Po', 'Kwun Tong'], dtype=object)"
            ]
          },
          "metadata": {
            "tags": []
          },
          "execution_count": 27
        }
      ]
    },
    {
      "cell_type": "code",
      "metadata": {
        "colab": {
          "base_uri": "https://localhost:8080/"
        },
        "id": "PQOtP8vUtgT9",
        "outputId": "6db2762e-5c80-4296-96b5-9201b46cad9f"
      },
      "source": [
        "# formando ranking de média de preço mais alto\n",
        "df_clean.groupby(['neighbourhood']).price.mean().sort_values(ascending=False)"
      ],
      "execution_count": null,
      "outputs": [
        {
          "output_type": "execute_result",
          "data": {
            "text/plain": [
              "neighbourhood\n",
              "Islands              697.333333\n",
              "Southern             686.096774\n",
              "Kwai Tsing           630.750000\n",
              "Sai Kung             537.114286\n",
              "Central & Western    530.648284\n",
              "Tai Po               514.066667\n",
              "Kowloon City         511.339869\n",
              "Kwun Tong            495.535714\n",
              "Yuen Long            483.747899\n",
              "Tuen Mun             474.967742\n",
              "Tsuen Wan            468.375000\n",
              "Sha Tin              460.404255\n",
              "Eastern              432.947368\n",
              "Yau Tsim Mong        410.459147\n",
              "Wan Chai             407.353834\n",
              "Wong Tai Sin         405.909091\n",
              "North                379.233918\n",
              "Sham Shui Po         343.744526\n",
              "Name: price, dtype: float64"
            ]
          },
          "metadata": {
            "tags": []
          },
          "execution_count": 28
        }
      ]
    },
    {
      "cell_type": "markdown",
      "metadata": {
        "id": "vNzwezbpvArt"
      },
      "source": [
        "Acima, vemos que bairros como *Islands*, *Southern* e *Kwai Tsing* são listados como os de preço médio mais altos de Hong Kong.\n",
        "\n",
        "Para ter certeza que estes valores representam a realidade, *é importante que verifiquemos a quantidade de entrada que existem neles*, uma vez que a média pode ser diretamente afetada por isso, dessa forma garantindo que a representação está correta.\n",
        "\n",
        "Ao checarmos as entradas, veremos que *Central & Western* (5º), *Yau Tsim Mong*(14º) e *Wan Chai*(15º) possuem mais entradas que *Islands* (1º), *Southern* (2º) e *Kwai Tsing* (3º), por exemplo. Por terem mais entradas, significa que possivelmente existem imóveis mais caros e mais baratos que os que estão mais bem ranqueados, o que afeta a percepção do ranking."
      ]
    },
    {
      "cell_type": "code",
      "metadata": {
        "colab": {
          "base_uri": "https://localhost:8080/"
        },
        "id": "Tz7xypWiuqEQ",
        "outputId": "e5032b0a-48b8-4ef2-93bf-9ab047d3ca34"
      },
      "source": [
        "print(df_clean[df_clean.neighbourhood == \"Islands\"].shape)\n",
        "print(df_clean[df_clean.neighbourhood == \"Southern\"].shape)\n",
        "print(df_clean[df_clean.neighbourhood == \"Kwai Tsing\"].shape)\n",
        "print(df_clean[df_clean.neighbourhood == \"Central & Western\"].shape)\n",
        "print(df_clean[df_clean.neighbourhood == \"Kowloon City\"].shape)\n",
        "print(df_clean[df_clean.neighbourhood == \"Yuen Long\"].shape)\n",
        "print(df_clean[df_clean.neighbourhood == \"Eastern\"].shape)\n",
        "print(df_clean[df_clean.neighbourhood == \"Yau Tsim Mong\"].shape)\n",
        "print(df_clean[df_clean.neighbourhood == \"Wan Chai\"].shape)"
      ],
      "execution_count": null,
      "outputs": [
        {
          "output_type": "stream",
          "text": [
            "(237, 13)\n",
            "(31, 13)\n",
            "(8, 13)\n",
            "(816, 13)\n",
            "(306, 13)\n",
            "(119, 13)\n",
            "(247, 13)\n",
            "(2766, 13)\n",
            "(1317, 13)\n"
          ],
          "name": "stdout"
        }
      ]
    },
    {
      "cell_type": "markdown",
      "metadata": {
        "id": "omblZlPREqob"
      },
      "source": [
        "Para lidarmos com esse problema, é importante que chequemos os valores apresentados nesses bairros com maior número de entradas a fim de verificar se os atributos gerais se destacam em relação aos que possuem menos e viceversa. Podemos considerar também que o fator da *exclusividade* e *luxo* em um bairro afeta diretamente o preço e a disponibilidade de imóveis é mais baixa.\n",
        "\n",
        "Para confirmarmos nossas suspeitas, iremos checar quantos imóveis possuem valores elevados em cada bairro de interesse, ou seja, nos três mais bem ranqueados por média e nos três com mais entradas. Consideraremos os bairros mais caros aqueles que possuem alugueis altos em grande quantidade, comparando com o número de entradas. Vimos que 697 é o valor médio mais elevado, então iremos considerar que 700 HDK é o valor base para considerarmos o aluguel caro. Vejamos:"
      ]
    },
    {
      "cell_type": "code",
      "metadata": {
        "colab": {
          "base_uri": "https://localhost:8080/"
        },
        "id": "MhkvJ6Ny0r-i",
        "outputId": "5baac367-d808-4780-cfdf-7f498a6aa67c"
      },
      "source": [
        "# verificando preços em Kwai Tsing\n",
        "df_clean.loc[(df_clean.neighbourhood == \"Kwai Tsing\") & (df_clean.price >= 700)].shape[0]"
      ],
      "execution_count": null,
      "outputs": [
        {
          "output_type": "execute_result",
          "data": {
            "text/plain": [
              "2"
            ]
          },
          "metadata": {
            "tags": []
          },
          "execution_count": 32
        }
      ]
    },
    {
      "cell_type": "markdown",
      "metadata": {
        "id": "logyXKrT4vYV"
      },
      "source": [
        "Aqui vemos que apenas 2 dos 8 imóveis disponíveis possuem preço elevado, o que mostra que apesar de existir preços elevados, a maioria possui preços medianos. Assim, notamos que nossa suspeita estava correta e não parece adequado Kwai Tsing ocupar o terceiro lugar em nosso ranking."
      ]
    },
    {
      "cell_type": "code",
      "metadata": {
        "colab": {
          "base_uri": "https://localhost:8080/"
        },
        "id": "7z4dmz923Pyz",
        "outputId": "27563082-9990-48ec-ba86-6dccef1e40bb"
      },
      "source": [
        "df_clean.loc[(df_clean.neighbourhood == \"Southern\") & (df_clean.price >= 700)].shape[0]"
      ],
      "execution_count": null,
      "outputs": [
        {
          "output_type": "execute_result",
          "data": {
            "text/plain": [
              "12"
            ]
          },
          "metadata": {
            "tags": []
          },
          "execution_count": 34
        }
      ]
    },
    {
      "cell_type": "markdown",
      "metadata": {
        "id": "ZLq322tS5Jc4"
      },
      "source": [
        "Já em Southern, que também possui baixa disponibilidade, vemos que 12 em 31 imóveis possuem valor elevado, aproximadamente 38,7%. É interessante notar que desses 12, 8 possuem valores acima de 1000, mostrando que de fato pode ser um bairro caro e exclusivista. Então, apesar de ter poucos imóveis, parece adequado dizer que Southern é um bairro caro."
      ]
    },
    {
      "cell_type": "code",
      "metadata": {
        "colab": {
          "base_uri": "https://localhost:8080/"
        },
        "id": "ylbw330N3m-a",
        "outputId": "ee59c561-2024-49fc-d345-c424c45e14a7"
      },
      "source": [
        "# verificando o preço em Islands\n",
        "df_clean.loc[(df_clean.neighbourhood == \"Islands\") & (df_clean.price >= 700)].shape[0]"
      ],
      "execution_count": null,
      "outputs": [
        {
          "output_type": "execute_result",
          "data": {
            "text/plain": [
              "113"
            ]
          },
          "metadata": {
            "tags": []
          },
          "execution_count": 36
        }
      ]
    },
    {
      "cell_type": "markdown",
      "metadata": {
        "id": "HnfPNdl55rGi"
      },
      "source": [
        "Já Islands, nosso bairro mais caro por média, possui 113 de 237 imóveis considerados caros (aprox. 47,6%), dentre esses, 42 possuem valores acima de 1000. Embora existam alguns imóveis baratos, sua grande maioria é de imóveis de preço alto, então parece adequado que o consideremos um bairro caro."
      ]
    },
    {
      "cell_type": "code",
      "metadata": {
        "colab": {
          "base_uri": "https://localhost:8080/"
        },
        "id": "yaG-S2TW30A1",
        "outputId": "633cc02e-3c88-457f-e318-3891f8ba7872"
      },
      "source": [
        "# verificando o distrito de Central & Western\n",
        "df_clean.loc[(df_clean.neighbourhood == \"Central & Western\") & (df_clean.price >= 700)].shape[0]"
      ],
      "execution_count": null,
      "outputs": [
        {
          "output_type": "execute_result",
          "data": {
            "text/plain": [
              "228"
            ]
          },
          "metadata": {
            "tags": []
          },
          "execution_count": 38
        }
      ]
    },
    {
      "cell_type": "markdown",
      "metadata": {
        "id": "8AplJEMB6fL4"
      },
      "source": [
        "O distrito de Central & Western possui 816 imóveis, dentre esses 228 possuem valor acima de 700 (aprox. 27,9%), enquanto 85 possuem valor acima de 1000. Embora tenha locais de preços bem elevados, a grande maioria dos imóveis possuem valor médio ou baixo."
      ]
    },
    {
      "cell_type": "code",
      "metadata": {
        "colab": {
          "base_uri": "https://localhost:8080/"
        },
        "id": "WKl5L1Qt4Fss",
        "outputId": "2d1ddff1-e597-417d-9bb6-01c33818df4a"
      },
      "source": [
        "df_clean.loc[(df_clean.neighbourhood == \"Yau Tsim Mong\") & (df_clean.price >= 700)].shape[0]"
      ],
      "execution_count": null,
      "outputs": [
        {
          "output_type": "execute_result",
          "data": {
            "text/plain": [
              "371"
            ]
          },
          "metadata": {
            "tags": []
          },
          "execution_count": 40
        }
      ]
    },
    {
      "cell_type": "markdown",
      "metadata": {
        "id": "Mp1_eXtu6-nz"
      },
      "source": [
        "Nosso bairro com mais imóveis disponíveis, chegando a 2766, possui 371 imóveis acima de 700 (aprox. 13,4%), enquanto possui 124 imóveis acima de 1000. Apesar de ser a maior concentração de imóveis de valor alto, aqui existe muito mais imóveis de valor baixo e médio, o que demonstra que o bairro em si não é caro, mas existe algumas locações de valor elevado."
      ]
    },
    {
      "cell_type": "code",
      "metadata": {
        "colab": {
          "base_uri": "https://localhost:8080/"
        },
        "id": "NtLsBk3_4VX8",
        "outputId": "c078cfc4-45a8-4186-eca0-857c4fddc700"
      },
      "source": [
        "df_clean.loc[(df_clean.neighbourhood == \"Wan Chai\") & (df_clean.price >= 700)].shape[0]"
      ],
      "execution_count": null,
      "outputs": [
        {
          "output_type": "execute_result",
          "data": {
            "text/plain": [
              "215"
            ]
          },
          "metadata": {
            "tags": []
          },
          "execution_count": 42
        }
      ]
    },
    {
      "cell_type": "markdown",
      "metadata": {
        "id": "Z68R_hIU8Mi1"
      },
      "source": [
        "Para concluir nossa lista de suspeitas, com 1317 imóveis disponíveis, Wan Chai possui 215 deles acima de 700 (aprox. 16,3%), quais 87 estão acima de 1000."
      ]
    },
    {
      "cell_type": "markdown",
      "metadata": {
        "id": "sLTNpTW5ysc4"
      },
      "source": [
        "Com isso, é possível observar que os três bairros que buscamos possuem valores baixos em relação aos do topo do ranking por média, tendo o valor máximo como o único valor alto dentre os atributos. Esse não é um bom norteador uma vez que costumam ser excessões, tendo poucos ou apenas um imóvel com aquele valor.\n",
        "\n",
        "Analisando os atributos como um todo, vemos que mesmo o bairro de *Kwai Tsing* tendo apenas 8 entradas, demonstram valor elevado em comparação a outros bairros, variando entre 350 e 714 HKD.\n",
        "\n",
        "É possível observar também que o 2º colocado, *Southern*, possui um valor mínimo elevado, junto a variação mais cara dentre todos os bairros, embora não possua o imóvel de valor mais elevado. Sua variação vai de 280 a 994 HKD.\n",
        "\n",
        "Enquanto isso, o 1º colocado, *Islands*, com uma quantidade satisfatória de entradas, é o 8º no quesito valor mínimo do imóvel, mas possuí uma variação alta, de 120 a 879 HDK. Apesar de ter um valor mínimo considerado acessível, seu valor máximo o puxa para o primeiro lugar no ranking de média, ultrapassando *Southern*. \n",
        "\n",
        "Considerando todo o apanhado que fizemos dos números, construíremos nosso ranking considerando as porcentagens de preços elevados dentre os bairros avaliados. Assim, chegamos ao seguinte ranking: **1º** *Islands*, **2º** *Southern* e **3º** *Central & Western*."
      ]
    },
    {
      "cell_type": "markdown",
      "metadata": {
        "id": "4HdxWpuYNPy1"
      },
      "source": [
        "Uma vez que possuímos as variáveis de Latitude e Longitude para os imóveis, é possível plotar cada ponto, criando assim uma visualização da localização dos imóveis através do gráfico *scatter*. Para isso, considera-se `x=longitude` e `y=latitude`.\n",
        "\n",
        "Uma vez que possuímos as variáveis de Latitude e Longitude, é possível plotar um mapa que mostre cada ponto onde os imóveis estão localizados, criando uma visualização que engloba o preço. Para isso, considera-se `x=longitude` e `y=latitude`."
      ]
    },
    {
      "cell_type": "code",
      "metadata": {
        "colab": {
          "base_uri": "https://localhost:8080/",
          "height": 469
        },
        "id": "6nHMBUVo9g02",
        "outputId": "7d5e704d-61cb-424d-9e5d-245649933217"
      },
      "source": [
        "# Plotando os imóveis pela latitude-longitude com o preço\n",
        "df_clean.plot(kind=\"scatter\", x='longitude', y='latitude', alpha=0.4, c=df_clean['price'], s=8, cmap=plt.get_cmap('jet'), figsize=(12,8));\n"
      ],
      "execution_count": null,
      "outputs": [
        {
          "output_type": "display_data",
          "data": {
            "image/png": "[encoded data removed]",
            "text/plain": [
              "<Figure size 864x576 with 2 Axes>"
            ]
          },
          "metadata": {
            "tags": [],
            "needs_background": "light"
          }
        }
      ]
    },
    {
      "cell_type": "markdown",
      "metadata": {
        "id": "KXwZgiqaOO5V"
      },
      "source": [
        "### **Qual é a média de preço dos imóveis disponíveis para aluguel?**\n",
        "\n",
        "Abaixo veremos a porcentagem da média de preço dos imóveis disponíveis para aluguel. A maioria dos imóveis custam entre 200 e 400 HKD."
      ]
    },
    {
      "cell_type": "code",
      "metadata": {
        "colab": {
          "base_uri": "https://localhost:8080/"
        },
        "id": "4TAc5EQBOEqf",
        "outputId": "864022e8-0fcc-4f27-c62b-bb0bbd2c518b"
      },
      "source": [
        "# verificando média de preço por porcentagem\n",
        "df_clean.price.value_counts() / df_clean.shape[0]\n"
      ],
      "execution_count": null,
      "outputs": [
        {
          "output_type": "execute_result",
          "data": {
            "text/plain": [
              "400     0.025420\n",
              "300     0.024008\n",
              "200     0.022595\n",
              "350     0.020869\n",
              "250     0.020555\n",
              "          ...   \n",
              "1073    0.000157\n",
              "1081    0.000157\n",
              "1085    0.000157\n",
              "1089    0.000157\n",
              "1269    0.000157\n",
              "Name: price, Length: 877, dtype: float64"
            ]
          },
          "metadata": {
            "tags": []
          },
          "execution_count": 121
        }
      ]
    },
    {
      "cell_type": "markdown",
      "metadata": {
        "id": "IHBcOhGqipgL"
      },
      "source": [
        "### **Qual o tipo de imóvel mais caro?**\n",
        "\n",
        "Para finalizar nossa análise, veremos qual tipo de imóvel possui os valores mais evelados considerando a média de preço, em seguida plotaremos um gráfico para ilustrar de forma mais eficiente."
      ]
    },
    {
      "cell_type": "code",
      "metadata": {
        "colab": {
          "base_uri": "https://localhost:8080/"
        },
        "id": "emDv9016i1MF",
        "outputId": "8e274edd-6aa6-41d5-f9b8-daba684b6696"
      },
      "source": [
        "# verificando o preço mais caro por tipo de imóvel\n",
        "room_price = df_clean.groupby(['room_type']).price.mean().sort_values(ascending=False)\n",
        "print(room_price)"
      ],
      "execution_count": null,
      "outputs": [
        {
          "output_type": "stream",
          "text": [
            "room_type\n",
            "Entire home/apt    635.441926\n",
            "Hotel room         438.121622\n",
            "Private room       359.418831\n",
            "Shared room        237.734793\n",
            "Name: price, dtype: float64\n"
          ],
          "name": "stdout"
        }
      ]
    },
    {
      "cell_type": "code",
      "metadata": {
        "colab": {
          "base_uri": "https://localhost:8080/",
          "height": 296
        },
        "id": "Jld8PtSjjFyi",
        "outputId": "a1d81f13-da61-473a-c108-a3ed06338b04"
      },
      "source": [
        "# plotando o gráfico dos imóveis mais caros por tipo \n",
        "ax = sns.barplot(x=room_price.index, y=room_price) \n",
        "ax.set_title('Preço mais alto por tipo de imóvel')\n",
        "ax.tick_params(bottom=False, top=False, left=False, right=False);\n",
        "ax.set_ylabel('$', fontsize=12)\n",
        "for kew, spine in ax.spines.items():\n",
        "    spine.set_visible(False)"
      ],
      "execution_count": null,
      "outputs": [
        {
          "output_type": "display_data",
          "data": {
            "image/png": "[encoded data removed]",
            "text/plain": [
              "<Figure size 432x288 with 1 Axes>"
            ]
          },
          "metadata": {
            "tags": [],
            "needs_background": "light"
          }
        }
      ]
    },
    {
      "cell_type": "markdown",
      "metadata": {
        "id": "9VkYxMFGj5KG"
      },
      "source": [
        "## Resumindo... O que podemos concluir com essa análise?\n",
        "\n",
        "Primeiro é importante notar que *datasets* não costumam vir perfeitos. É muito comum haver uma grande quantidade de valores ausentes e *outliers*, sendo necessário tratar os dados para torná-los úteis para a extração de *insights*.\n",
        "\n",
        "Hong Kong é um lugar com baixo índice de alugueis no Airbnb se compararmos com outros ao redor do mundo. Como é possível notarmos no gráfico scatter, a possibilidade de alugar imóveis pelo site se concentra nos distritos localizados nos territórios de Kowloon e Hong Kong Islands por serem mais populares. Uma vez que os outros distritos possuem uma baixa quantidade de disponibilidade, devemos ter consciencia que podem haver distorções estatísticas. \n",
        "\n",
        "Ainda assim, considerando nossos dados tratados, foi possível observar que:\n",
        "\n",
        "* A maioria dos **imóveis disponibilizados** através do **Airbnb** são quartos privados com valor médio de 359 HDK, o que equivale a aproximadamente 46 USD ou 265 R$. O segundo tipo de imóvel mais popular é o de apartamentos/casas inteiras, que naturalmente possuem os preços mais elevados para aluguel, tendo uma média de 638 HDK.\n",
        "\n",
        "* Sobre os **distritos mais caros**, vimos que a percepção pode variar de acordo com a disponibilidade de imóveis. Entretanto, seguindo nossa análise, conseguimos determinar que os distritos com estadias mais caras são os de *Islands*, *Southern* e *Central & Western*.\n",
        "\n",
        "* Para a maioria dos imoveis dos 18 distritos listados, **os preços variam entre 200 e 400 HKD**, o que equivale a uma variação de 25 a 51 USD ou 148 a 296 R$."
      ]
    }
  ]
}